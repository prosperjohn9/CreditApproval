{
  "nbformat": 4,
  "nbformat_minor": 0,
  "metadata": {
    "colab": {
      "provenance": [],
      "authorship_tag": "ABX9TyPVgH2src0AfiX53nYyquFH",
      "include_colab_link": true
    },
    "kernelspec": {
      "name": "python3",
      "display_name": "Python 3"
    },
    "language_info": {
      "name": "python"
    }
  },
  "cells": [
    {
      "cell_type": "markdown",
      "metadata": {
        "id": "view-in-github",
        "colab_type": "text"
      },
      "source": [
        "<a href=\"https://colab.research.google.com/github/prosperjohn9/CreditApproval/blob/main/CreditApproval.ipynb\" target=\"_parent\"><img src=\"https://colab.research.google.com/assets/colab-badge.svg\" alt=\"Open In Colab\"/></a>"
      ]
    },
    {
      "cell_type": "markdown",
      "source": [
        "When people apply to banks for credit, bank authorities will check for some criterias. Surely, this is a complex process in real life, but let’s simplify the criterias for the current example. Assume that we have following criterias to make a decision for a credit application."
      ],
      "metadata": {
        "id": "RSIHZ_HMdnGu"
      }
    },
    {
      "cell_type": "markdown",
      "source": [
        "![alt text](https://lh3.googleusercontent.com/byRla4wYuDafSYbFSm9d2OQDlJSvualxrvgCIAkeloW8Zj9jC6Wcez_j7lIF2uS0w86v7MYDf0udOdWSDTVzYy5uPZ12t6R3LHn8Elg4FqsaJpAupmHHYX6lNkNf3_unDLi54OomtvJ9xdzjVyOdDpNu3wZ3VHn5r9Qx8hx2-YVAv0AJYvkouR0nqUM6-tLf7yARyyZfojIYkKutbx-o23FYHfe5RLOylmf-YOyLvaOmZ1q6UgELt6bU-Z21kTJQO8KAeXD9eCiEsqXPFnspnTC90jftgsgt-2-7bYV4QK-jwpoST8OEbvIePFXnb9Eg8gynjYV2tZvrAfNdvaLGihLGD8wJWXqdtbiOtKFaKkl6I2TarxmJ7qVtpYXqvmeKV0uP2l8P0cVv7USLcBi7WnDF-wMFWf2DNQm8z8H_7ZXJmMf6kEeW1uZdpgTd0Azb8VROw6Z40qaejKiV798NOUC21nqLjynevV0tptexkNYMwZ1hh7Xcy6E9dm7zxkTwUO5q9xx03l_aeii9-vrL3C0pYj05f3ei1G9XFEbTTlA0oOkck-yCOt8G2od8wy9XJZPXn9Op3EKu7SPUbKGmkfqPvobBnU3C1lZn_BJiLOVqsAnsVT1DhPh6JqexMvrRSJ0flz_wnEMqZ12pYyNlF9taLGL05H0=w1408-h848-no)"
      ],
      "metadata": {
        "id": "-qPBTMrBdXp_"
      }
    },
    {
      "cell_type": "markdown",
      "source": [
        "Write a program that asks three different input values from your colleague. These inputs will be age (integer), employee (“Yes” or “No”), and credit rating (“Excellent” or “Fair”). Depending on these inputs, you will come up with a decision for the credit application."
      ],
      "metadata": {
        "id": "vFedkYWedtxj"
      }
    },
    {
      "cell_type": "code",
      "source": [
        "age = int(input(\"Please enter your age: \"))\n",
        "if age < 31:\n",
        "  employee = input(\"Are you employed?: \")\n",
        "  if employee == \"Yes\":\n",
        "    print(\"Decision for the credit application: Yes\")\n",
        "  else:\n",
        "    print(\"Decision for the credit application: No\")\n",
        "elif age <= 40:\n",
        "  print(\"Decision for the credit application: Yes\")\n",
        "else:\n",
        "  credit_rating = input(\"Please enter your credit rating: \")\n",
        "  if credit_rating == \"Excellent\":\n",
        "    print(\"Decision for the credit application: Yes\")\n",
        "  else:\n",
        "    print(\"Decision for the credit application: No\")"
      ],
      "metadata": {
        "colab": {
          "base_uri": "https://localhost:8080/"
        },
        "id": "CwwGYg6MuJZY",
        "outputId": "ab3ad2e0-8dc4-478c-a143-f29665966e6d"
      },
      "execution_count": null,
      "outputs": [
        {
          "output_type": "stream",
          "name": "stdout",
          "text": [
            "Please enter your age: 46\n",
            "Please enter your credit rating: Excellent\n",
            "Decision for the credit application: Yes\n"
          ]
        }
      ]
    }
  ]
}